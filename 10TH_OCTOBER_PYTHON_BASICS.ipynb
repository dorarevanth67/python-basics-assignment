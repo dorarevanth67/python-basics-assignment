{
 "cells": [
  {
   "cell_type": "code",
   "execution_count": null,
   "id": "a3da5d5c-0d46-461a-ad9d-8d358bbc61e1",
   "metadata": {},
   "outputs": [],
   "source": []
  },
  {
   "cell_type": "code",
   "execution_count": null,
   "id": "71f935fc-474e-40db-a38d-d749644c4f27",
   "metadata": {},
   "outputs": [],
   "source": []
  },
  {
   "cell_type": "code",
   "execution_count": null,
   "id": "7513fe37-11e9-43df-9f4a-6a9bff88edb1",
   "metadata": {},
   "outputs": [],
   "source": []
  },
  {
   "cell_type": "code",
   "execution_count": 1,
   "id": "fbb86514-c56a-49e8-a690-960cdc4852fe",
   "metadata": {},
   "outputs": [
    {
     "name": "stdout",
     "output_type": "stream",
     "text": [
      "3 1\n"
     ]
    }
   ],
   "source": [
    "a=1\n",
    "b=3\n",
    "a=a+b\n",
    "b=a-b\n",
    "a=a-b\n",
    "a,b\n",
    "print(a,b)"
   ]
  },
  {
   "cell_type": "code",
   "execution_count": 6,
   "id": "d39c4017-b121-46bc-bd6f-ddc9df1297a8",
   "metadata": {},
   "outputs": [
    {
     "name": "stdin",
     "output_type": "stream",
     "text": [
      "length of rectangle 5\n",
      "breadth of rectangle 5\n"
     ]
    },
    {
     "data": {
      "text/plain": [
       "25"
      ]
     },
     "execution_count": 6,
     "metadata": {},
     "output_type": "execute_result"
    }
   ],
   "source": [
    "a=int(input('length of rectangle'))\n",
    "b=int(input('breadth of rectangle'))\n",
    "area=a*b\n",
    "area"
   ]
  },
  {
   "cell_type": "code",
   "execution_count": 8,
   "id": "b9a22c0c-041b-4cfc-88d5-9fca4b91b866",
   "metadata": {},
   "outputs": [
    {
     "name": "stdin",
     "output_type": "stream",
     "text": [
      "temperature in celsius 56\n"
     ]
    },
    {
     "name": "stdout",
     "output_type": "stream",
     "text": [
      "132.8\n"
     ]
    }
   ],
   "source": [
    "a=float(input('temperature in celsius'))\n",
    "b=(a*(9/5)+32)\n",
    "print(b)\n",
    "\n"
   ]
  },
  {
   "cell_type": "code",
   "execution_count": null,
   "id": "764ef8e8-7151-48ba-aec8-4e885b748061",
   "metadata": {},
   "outputs": [],
   "source": []
  },
  {
   "cell_type": "code",
   "execution_count": null,
   "id": "345a343d-ae54-46d4-ab08-efcb7615a2e3",
   "metadata": {},
   "outputs": [],
   "source": []
  },
  {
   "cell_type": "code",
   "execution_count": null,
   "id": "018f5991-0881-40e9-a92f-3122f1a1464a",
   "metadata": {},
   "outputs": [],
   "source": []
  }
 ],
 "metadata": {
  "kernelspec": {
   "display_name": "Python 3 (ipykernel)",
   "language": "python",
   "name": "python3"
  },
  "language_info": {
   "codemirror_mode": {
    "name": "ipython",
    "version": 3
   },
   "file_extension": ".py",
   "mimetype": "text/x-python",
   "name": "python",
   "nbconvert_exporter": "python",
   "pygments_lexer": "ipython3",
   "version": "3.10.8"
  }
 },
 "nbformat": 4,
 "nbformat_minor": 5
}
